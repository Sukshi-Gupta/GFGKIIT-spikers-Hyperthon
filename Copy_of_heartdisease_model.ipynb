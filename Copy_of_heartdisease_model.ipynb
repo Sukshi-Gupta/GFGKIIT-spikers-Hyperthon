{
  "cells": [
    {
      "cell_type": "markdown",
      "metadata": {
        "id": "view-in-github",
        "colab_type": "text"
      },
      "source": [
        "<a href=\"https://colab.research.google.com/github/Sukshi-Gupta/GFGKIIT-spikers-Hyperthon/blob/main/Copy_of_heartdisease_model.ipynb\" target=\"_parent\"><img src=\"https://colab.research.google.com/assets/colab-badge.svg\" alt=\"Open In Colab\"/></a>"
      ]
    },
    {
      "cell_type": "code",
      "execution_count": null,
      "id": "0efa43e7-91af-4011-a591-9c4528702441",
      "metadata": {
        "id": "0efa43e7-91af-4011-a591-9c4528702441"
      },
      "outputs": [],
      "source": [
        "import pandas as pd\n",
        "import numpy as np\n",
        "from sklearn.model_selection import train_test_split\n",
        "from sklearn.ensemble import RandomForestClassifier\n",
        "from sklearn.metrics import accuracy_score, classification_report\n",
        "import matplotlib.pyplot as plt\n",
        "import seaborn as sns\n"
      ]
    },
    {
      "cell_type": "code",
      "execution_count": null,
      "id": "d6634cd1-ee86-437a-931d-297f8952cf8c",
      "metadata": {
        "id": "d6634cd1-ee86-437a-931d-297f8952cf8c",
        "outputId": "c73dce6a-298b-4685-f74e-4069dac1d681"
      },
      "outputs": [
        {
          "name": "stdout",
          "output_type": "stream",
          "text": [
            "Features:\n",
            "    age  sex  cp  trestbps  chol  fbs  restecg  thalach  exang  oldpeak  slope  \\\n",
            "0   63    1   1       145   233    1        2      150      0      2.3      3   \n",
            "1   67    1   4       160   286    0        2      108      1      1.5      2   \n",
            "2   67    1   4       120   229    0        2      129      1      2.6      2   \n",
            "3   37    1   3       130   250    0        0      187      0      3.5      3   \n",
            "4   41    0   2       130   204    0        2      172      0      1.4      1   \n",
            "\n",
            "    ca  thal  \n",
            "0  0.0   6.0  \n",
            "1  3.0   3.0  \n",
            "2  2.0   7.0  \n",
            "3  0.0   3.0  \n",
            "4  0.0   3.0  \n",
            "\n",
            "Target:\n",
            "    num\n",
            "0    0\n",
            "1    2\n",
            "2    1\n",
            "3    0\n",
            "4    0\n"
          ]
        }
      ],
      "source": [
        "# Install the ucimlrepo package (run this in your environment if not installed)\n",
        "# !pip install ucimlrepo\n",
        "\n",
        "from ucimlrepo import fetch_ucirepo\n",
        "\n",
        "# Fetch the dataset\n",
        "heart_disease = fetch_ucirepo(id=45)\n",
        "\n",
        "# Data as pandas DataFrame\n",
        "X = heart_disease.data.features  # Features\n",
        "y = heart_disease.data.targets   # Target (Presence of heart disease)\n",
        "\n",
        "# Display basic information\n",
        "print(\"Features:\\n\", X.head())\n",
        "print(\"\\nTarget:\\n\", y.head())\n"
      ]
    },
    {
      "cell_type": "code",
      "execution_count": null,
      "id": "d215ee97-5fa3-4053-b056-8ce6540bcb5d",
      "metadata": {
        "id": "d215ee97-5fa3-4053-b056-8ce6540bcb5d",
        "outputId": "46e94929-1321-4b42-ff39-fa2fecbe7a82"
      },
      "outputs": [
        {
          "name": "stdout",
          "output_type": "stream",
          "text": [
            "   age  sex  cp  trestbps  chol  fbs  restecg  thalach  exang  oldpeak  slope  \\\n",
            "0   63    1   1       145   233    1        2      150      0      2.3      3   \n",
            "1   67    1   4       160   286    0        2      108      1      1.5      2   \n",
            "2   67    1   4       120   229    0        2      129      1      2.6      2   \n",
            "3   37    1   3       130   250    0        0      187      0      3.5      3   \n",
            "4   41    0   2       130   204    0        2      172      0      1.4      1   \n",
            "\n",
            "    ca  thal  target disease cause cure  \n",
            "0  0.0   6.0     NaN     NaN   NaN  NaN  \n",
            "1  3.0   3.0     NaN     NaN   NaN  NaN  \n",
            "2  2.0   7.0     NaN     NaN   NaN  NaN  \n",
            "3  0.0   3.0     NaN     NaN   NaN  NaN  \n",
            "4  0.0   3.0     NaN     NaN   NaN  NaN  \n"
          ]
        }
      ],
      "source": [
        "# Define disease mapping\n",
        "disease_mapping = {\n",
        "    0: {\"disease\": \"No Heart Disease\", \"cause\": \"N/A\", \"cure\": \"Maintain a healthy lifestyle.\"},\n",
        "    1: {\"disease\": \"Presence of Heart Disease\", \"cause\": \"Plaque buildup, high cholesterol.\", \"cure\": \"Medications, surgery, and lifestyle changes.\"}\n",
        "}\n",
        "\n",
        "# Convert y (Series) to a DataFrame with a proper column name\n",
        "y_df = pd.DataFrame(y, columns=[\"target\"])  # Ensure 'target' is explicitly named\n",
        "\n",
        "# Combine features (X) and the target column into one DataFrame\n",
        "X_combined = pd.concat([X, y_df], axis=1)  # Concatenate along columns\n",
        "\n",
        "# Add disease details based on target values\n",
        "X_combined['disease'] = X_combined['target'].map({k: v[\"disease\"] for k, v in disease_mapping.items()})\n",
        "X_combined['cause'] = X_combined['target'].map({k: v[\"cause\"] for k, v in disease_mapping.items()})\n",
        "X_combined['cure'] = X_combined['target'].map({k: v[\"cure\"] for k, v in disease_mapping.items()})\n",
        "\n",
        "# Preview the combined DataFrame\n",
        "print(X_combined.head())\n"
      ]
    },
    {
      "cell_type": "code",
      "execution_count": null,
      "id": "e6736624-b8b8-4f61-ac29-dc720f505be9",
      "metadata": {
        "id": "e6736624-b8b8-4f61-ac29-dc720f505be9",
        "outputId": "53cdfd66-eb93-47aa-e4fe-fbcfbddf88da"
      },
      "outputs": [
        {
          "name": "stdout",
          "output_type": "stream",
          "text": [
            "Training set shape: (242, 13)\n",
            "Testing set shape: (61, 13)\n"
          ]
        }
      ],
      "source": [
        "# Drop non-feature columns (disease, cause, cure) and keep target separately\n",
        "features = X_combined.drop(columns=['disease', 'cause', 'cure', 'target'])  # Feature set\n",
        "target = X_combined['target']  # Target column\n",
        "\n",
        "# Split into training and testing sets\n",
        "X_train, X_test, y_train, y_test = train_test_split(features, target, test_size=0.2, random_state=42)\n",
        "\n",
        "# Verify shapes\n",
        "print(\"Training set shape:\", X_train.shape)\n",
        "print(\"Testing set shape:\", X_test.shape)\n"
      ]
    },
    {
      "cell_type": "code",
      "execution_count": null,
      "id": "284eadab-4555-43e2-88b8-7de67ef837cf",
      "metadata": {
        "id": "284eadab-4555-43e2-88b8-7de67ef837cf",
        "outputId": "06117a47-ff27-4b02-901c-ee900b958256"
      },
      "outputs": [
        {
          "name": "stdout",
          "output_type": "stream",
          "text": [
            "Missing values in features (X):\n",
            "age         0\n",
            "sex         0\n",
            "cp          0\n",
            "trestbps    0\n",
            "chol        0\n",
            "fbs         0\n",
            "restecg     0\n",
            "thalach     0\n",
            "exang       0\n",
            "oldpeak     0\n",
            "slope       0\n",
            "ca          4\n",
            "thal        2\n",
            "dtype: int64\n",
            "\n",
            "Missing values in target (y):\n",
            "num    0\n",
            "dtype: int64\n"
          ]
        }
      ],
      "source": [
        "# Check for missing values in features (X) and target (y)\n",
        "print(\"Missing values in features (X):\")\n",
        "print(X.isnull().sum())\n",
        "\n",
        "print(\"\\nMissing values in target (y):\")\n",
        "print(y.isnull().sum())\n",
        "\n"
      ]
    },
    {
      "cell_type": "code",
      "execution_count": null,
      "id": "d440c81d-e3fa-4363-8de1-6dcdf517dc5f",
      "metadata": {
        "id": "d440c81d-e3fa-4363-8de1-6dcdf517dc5f",
        "outputId": "80716875-3f6f-469a-bcc2-ef3946ec68f7"
      },
      "outputs": [
        {
          "name": "stdout",
          "output_type": "stream",
          "text": [
            "\n",
            "After removing missing values:\n",
            "Features (X) shape: (297, 13)\n",
            "Target (y) shape: (297,)\n"
          ]
        }
      ],
      "source": [
        "# Combine X and y into a single DataFrame for consistent row removal\n",
        "combined = pd.concat([X, y], axis=1)\n",
        "\n",
        "# Drop rows where any column (features or target) has missing values\n",
        "combined = combined.dropna()\n",
        "\n",
        "# Split back into X and y after cleaning\n",
        "X = combined.iloc[:, :-1]  # All columns except the last one (features)\n",
        "y = combined.iloc[:, -1]   # Last column (target)\n",
        "\n",
        "# Verify shapes after cleaning\n",
        "print(\"\\nAfter removing missing values:\")\n",
        "print(\"Features (X) shape:\", X.shape)\n",
        "print(\"Target (y) shape:\", y.shape)\n"
      ]
    },
    {
      "cell_type": "code",
      "execution_count": null,
      "id": "f74cad96-24a3-448b-bb01-0cf0b1ce70c1",
      "metadata": {
        "id": "f74cad96-24a3-448b-bb01-0cf0b1ce70c1",
        "outputId": "94846cc5-e937-4948-d05b-a8248b301845"
      },
      "outputs": [
        {
          "name": "stdout",
          "output_type": "stream",
          "text": [
            "\n",
            "Training set shape (X_train): (237, 13)\n",
            "Testing set shape (X_test): (60, 13)\n"
          ]
        }
      ],
      "source": [
        "from sklearn.model_selection import train_test_split\n",
        "\n",
        "# Split the cleaned data\n",
        "X_train, X_test, y_train, y_test = train_test_split(X, y, test_size=0.2, random_state=42)\n",
        "\n",
        "# Verify shapes\n",
        "print(\"\\nTraining set shape (X_train):\", X_train.shape)\n",
        "print(\"Testing set shape (X_test):\", X_test.shape)\n"
      ]
    },
    {
      "cell_type": "code",
      "execution_count": null,
      "id": "362c8980-ba59-4316-bb9c-19198a281999",
      "metadata": {
        "id": "362c8980-ba59-4316-bb9c-19198a281999",
        "outputId": "33528cc3-fae0-49f9-8565-69b64c6191f3"
      },
      "outputs": [
        {
          "name": "stdout",
          "output_type": "stream",
          "text": [
            "\n",
            "Accuracy: 0.6\n",
            "\n",
            "Classification Report:\n",
            "               precision    recall  f1-score   support\n",
            "\n",
            "           0       0.80      0.97      0.88        36\n",
            "           1       0.00      0.00      0.00         9\n",
            "           2       0.14      0.20      0.17         5\n",
            "           3       0.00      0.00      0.00         7\n",
            "           4       0.00      0.00      0.00         3\n",
            "\n",
            "    accuracy                           0.60        60\n",
            "   macro avg       0.19      0.23      0.21        60\n",
            "weighted avg       0.49      0.60      0.54        60\n",
            "\n"
          ]
        }
      ],
      "source": [
        "from sklearn.ensemble import RandomForestClassifier\n",
        "from sklearn.metrics import accuracy_score, classification_report\n",
        "\n",
        "# Train the model\n",
        "model = RandomForestClassifier(n_estimators=100, random_state=42)\n",
        "model.fit(X_train, y_train)\n",
        "\n",
        "# Predict on test set\n",
        "y_pred = model.predict(X_test)\n",
        "\n",
        "# Evaluate the model\n",
        "print(\"\\nAccuracy:\", accuracy_score(y_test, y_pred))\n",
        "print(\"\\nClassification Report:\\n\", classification_report(y_test, y_pred))\n"
      ]
    },
    {
      "cell_type": "code",
      "execution_count": null,
      "id": "04c165b1-188c-4e5e-ba28-668d041e6071",
      "metadata": {
        "id": "04c165b1-188c-4e5e-ba28-668d041e6071",
        "outputId": "5264d1e6-1491-4ee9-f2e6-6ee8904de6f2"
      },
      "outputs": [
        {
          "name": "stdout",
          "output_type": "stream",
          "text": [
            "Prediction: 0\n"
          ]
        }
      ],
      "source": [
        "# Select a sample from the test set\n",
        "sample = X_test.iloc[0:1]  # Use a DataFrame (not a Series) to retain feature names\n",
        "\n",
        "# Predict on the sample\n",
        "sample_prediction = model.predict(sample)[0]\n",
        "print(f\"Prediction: {sample_prediction}\")\n"
      ]
    },
    {
      "cell_type": "code",
      "execution_count": null,
      "id": "4cdd5c9b-64c1-4f24-9b83-5bdf6954fb59",
      "metadata": {
        "id": "4cdd5c9b-64c1-4f24-9b83-5bdf6954fb59",
        "outputId": "054bd852-c6b9-43e5-f16b-3c5a2f40de09"
      },
      "outputs": [
        {
          "name": "stdout",
          "output_type": "stream",
          "text": [
            "\n",
            "    Disease Name: No Heart Disease\n",
            "    Cause: N/A\n",
            "    Cure/Treatment: Maintain a healthy lifestyle.\n",
            "    \n"
          ]
        }
      ],
      "source": [
        "def get_disease_info(prediction):\n",
        "    \"\"\"Return disease name, cause, and cure for a given prediction.\"\"\"\n",
        "    info = disease_mapping[prediction]\n",
        "    return f\"\"\"\n",
        "    Disease Name: {info['disease']}\n",
        "    Cause: {info['cause']}\n",
        "    Cure/Treatment: {info['cure']}\n",
        "    \"\"\"\n",
        "\n",
        "# Get insights for the sample prediction\n",
        "print(get_disease_info(sample_prediction))\n"
      ]
    },
    {
      "cell_type": "code",
      "execution_count": null,
      "id": "d5ed5584-ac9e-47a8-a8f7-9f6cdadb72b0",
      "metadata": {
        "id": "d5ed5584-ac9e-47a8-a8f7-9f6cdadb72b0",
        "outputId": "d454653f-2277-4705-eebb-da6ac863bd2a"
      },
      "outputs": [
        {
          "name": "stdout",
          "output_type": "stream",
          "text": [
            "Prediction: 0\n"
          ]
        }
      ],
      "source": [
        "# Example custom input\n",
        "custom_input = [[63, 1, 3, 145, 233, 1, 0, 150, 0, 2.3, 0, 0, 1]]\n",
        "\n",
        "# Convert to DataFrame with the same feature names as training data\n",
        "custom_input_df = pd.DataFrame(custom_input, columns=features.columns)\n",
        "\n",
        "# Predict using the model\n",
        "custom_prediction = model.predict(custom_input_df)[0]\n",
        "print(f\"Prediction: {custom_prediction}\")\n"
      ]
    },
    {
      "cell_type": "code",
      "execution_count": null,
      "id": "d1bbf626-50a1-4300-9d22-ecb1d030d9a4",
      "metadata": {
        "id": "d1bbf626-50a1-4300-9d22-ecb1d030d9a4"
      },
      "outputs": [],
      "source": [
        "columns = ['age', 'sex', 'cp', 'trestbps', 'chol', 'fbs', 'restecg', 'thalach',\n",
        "           'exang', 'oldpeak', 'slope', 'ca', 'thal']\n",
        "custom_input = [[63, 1, 3, 145, 233, 1, 0, 150, 0, 2.3, 0, 0, 1]]\n",
        "custom_input_df = pd.DataFrame(custom_input, columns=columns)\n"
      ]
    },
    {
      "cell_type": "code",
      "execution_count": null,
      "id": "be195db3-3284-4fbe-b3dc-4087b80d7e8d",
      "metadata": {
        "id": "be195db3-3284-4fbe-b3dc-4087b80d7e8d",
        "outputId": "2d529755-c6cf-498a-b387-4e5365bc5b38"
      },
      "outputs": [
        {
          "name": "stdout",
          "output_type": "stream",
          "text": [
            "0\n"
          ]
        }
      ],
      "source": [
        "sample = X_test.iloc[0:1]\n",
        "sample_prediction = model.predict(sample)[0]\n",
        "print(sample_prediction)\n"
      ]
    },
    {
      "cell_type": "code",
      "execution_count": null,
      "id": "41bbe039-b999-4bd2-98fc-d57f74bf7e33",
      "metadata": {
        "id": "41bbe039-b999-4bd2-98fc-d57f74bf7e33",
        "outputId": "4c55bc68-dd36-4919-c8c8-acf241515e24"
      },
      "outputs": [
        {
          "name": "stdout",
          "output_type": "stream",
          "text": [
            "0\n"
          ]
        }
      ],
      "source": [
        "custom_input = [[63, 1, 3, 145, 233, 1, 0, 150, 0, 2.3, 0, 0, 1]]\n",
        "custom_input_df = pd.DataFrame(custom_input, columns=features.columns)\n",
        "custom_prediction = model.predict(custom_input_df)[0]\n",
        "print(custom_prediction)\n"
      ]
    },
    {
      "cell_type": "code",
      "execution_count": null,
      "id": "6116bcc4-c60d-4264-9772-eae1dc131ecc",
      "metadata": {
        "id": "6116bcc4-c60d-4264-9772-eae1dc131ecc",
        "outputId": "db4cfb68-1e99-43f1-f212-cc4417eb31a3"
      },
      "outputs": [
        {
          "name": "stdout",
          "output_type": "stream",
          "text": [
            "Sample Prediction: 0\n"
          ]
        }
      ],
      "source": [
        "# Select a sample row from the test set\n",
        "sample = X_test.iloc[0:1]  # Keep it as a DataFrame to retain feature names\n",
        "\n",
        "# Predict using the trained model\n",
        "sample_prediction = model.predict(sample)[0]  # Get the prediction as a scalar\n",
        "\n",
        "print(f\"Sample Prediction: {sample_prediction}\")\n"
      ]
    },
    {
      "cell_type": "code",
      "execution_count": null,
      "id": "05d7fe8f-c464-4449-836a-70b277c63aea",
      "metadata": {
        "id": "05d7fe8f-c464-4449-836a-70b277c63aea",
        "outputId": "712cb9dc-b0c9-42b1-df52-36f9467d96fb"
      },
      "outputs": [
        {
          "name": "stdout",
          "output_type": "stream",
          "text": [
            "Sample Prediction: 0\n",
            "\n",
            "    Disease Name: No Heart Disease\n",
            "    Cause: N/A\n",
            "    Cure/Treatment: Maintain a healthy lifestyle.\n",
            "    \n",
            "Custom Input Prediction: 0\n",
            "\n",
            "    Disease Name: No Heart Disease\n",
            "    Cause: N/A\n",
            "    Cure/Treatment: Maintain a healthy lifestyle.\n",
            "    \n"
          ]
        }
      ],
      "source": [
        "# Predict on a sample from test data\n",
        "sample = X_test.iloc[0:1]\n",
        "sample_prediction = model.predict(sample)[0]\n",
        "print(f\"Sample Prediction: {sample_prediction}\")\n",
        "print(get_disease_info(sample_prediction))\n",
        "\n",
        "# Predict on custom input\n",
        "custom_input = [[63, 1, 3, 145, 233, 1, 0, 150, 0, 2.3, 0, 0, 1]]  # Example\n",
        "custom_input_df = pd.DataFrame(custom_input, columns=features.columns)\n",
        "custom_prediction = model.predict(custom_input_df)[0]\n",
        "print(f\"Custom Input Prediction: {custom_prediction}\")\n",
        "print(get_disease_info(custom_prediction))\n"
      ]
    },
    {
      "cell_type": "code",
      "execution_count": null,
      "id": "a11404cc-e1f9-470b-adb8-2ffdb3bcead9",
      "metadata": {
        "id": "a11404cc-e1f9-470b-adb8-2ffdb3bcead9",
        "outputId": "4904783b-2609-448c-fd36-b60977a0b5dc"
      },
      "outputs": [
        {
          "data": {
            "image/png": "[encoded data removed]",
            "text/plain": [
              "<Figure size 1000x600 with 1 Axes>"
            ]
          },
          "metadata": {},
          "output_type": "display_data"
        }
      ],
      "source": [
        "# Feature importance\n",
        "importances = model.feature_importances_\n",
        "feature_names = features.columns\n",
        "\n",
        "plt.figure(figsize=(10, 6))\n",
        "sns.barplot(x=importances, y=feature_names)\n",
        "plt.title(\"Feature Importance for Heart Disease Prediction\")\n",
        "plt.show()\n"
      ]
    },
    {
      "cell_type": "code",
      "execution_count": null,
      "id": "ed08476b-cdc3-41eb-8951-2236abed7582",
      "metadata": {
        "id": "ed08476b-cdc3-41eb-8951-2236abed7582",
        "outputId": "3bf011d8-fdf6-4e2d-e212-e20941daaa43"
      },
      "outputs": [
        {
          "name": "stdout",
          "output_type": "stream",
          "text": [
            "Model saved successfully.\n",
            "Model loaded successfully.\n",
            "\n",
            "    Disease Name: No Heart Disease\n",
            "    Cause: N/A\n",
            "    Cure/Treatment: Maintain a healthy lifestyle.\n",
            "    \n"
          ]
        }
      ],
      "source": [
        "import joblib\n",
        "\n",
        "# Save the model\n",
        "joblib.dump(model, \"heart_disease_model.pkl\")\n",
        "print(\"Model saved successfully.\")\n",
        "\n",
        "# Load the model\n",
        "loaded_model = joblib.load(\"heart_disease_model.pkl\")\n",
        "print(\"Model loaded successfully.\")\n",
        "\n",
        "# Test the loaded model\n",
        "# Select a sample row for prediction\n",
        "sample = X_test.iloc[0:1]  # Keep it as a DataFrame to retain feature names\n",
        "\n",
        "# Predict using the loaded model\n",
        "sample_prediction = loaded_model.predict(sample)[0]  # Do not wrap in another list\n",
        "\n",
        "# Print the disease information\n",
        "print(get_disease_info(sample_prediction))\n"
      ]
    },
    {
      "cell_type": "code",
      "execution_count": null,
      "id": "c8fa6b98-3f56-4eac-8e1b-0af1e3c486dc",
      "metadata": {
        "id": "c8fa6b98-3f56-4eac-8e1b-0af1e3c486dc"
      },
      "outputs": [],
      "source": []
    },
    {
      "cell_type": "code",
      "execution_count": null,
      "id": "9c27c3b6",
      "metadata": {
        "id": "9c27c3b6"
      },
      "outputs": [],
      "source": []
    },
    {
      "cell_type": "code",
      "execution_count": null,
      "id": "e298827a",
      "metadata": {
        "id": "e298827a"
      },
      "outputs": [],
      "source": []
    }
  ],
  "metadata": {
    "kernelspec": {
      "display_name": "Python 3",
      "language": "python",
      "name": "python3"
    },
    "language_info": {
      "codemirror_mode": {
        "name": "ipython",
        "version": 3
      },
      "file_extension": ".py",
      "mimetype": "text/x-python",
      "name": "python",
      "nbconvert_exporter": "python",
      "pygments_lexer": "ipython3",
      "version": "3.12.7"
    },
    "colab": {
      "provenance": [],
      "include_colab_link": true
    }
  },
  "nbformat": 4,
  "nbformat_minor": 5
}