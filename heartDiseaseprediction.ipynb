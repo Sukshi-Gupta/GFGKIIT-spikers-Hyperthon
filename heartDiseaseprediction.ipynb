{
  "nbformat": 4,
  "nbformat_minor": 0,
  "metadata": {
    "colab": {
      "provenance": [],
      "mount_file_id": "1EL4uPyt1DWh0e0dXdNzswpgPLCVL8vIk",
      "authorship_tag": "ABX9TyOR/UH111/zckhxf8B+S21H",
      "include_colab_link": true
    },
    "kernelspec": {
      "name": "python3",
      "display_name": "Python 3"
    },
    "language_info": {
      "name": "python"
    }
  },
  "cells": [
    {
      "cell_type": "markdown",
      "metadata": {
        "id": "view-in-github",
        "colab_type": "text"
      },
      "source": [
        "<a href=\"https://colab.research.google.com/github/Sukshi-Gupta/GFGKIIT-spikers-Hyperthon/blob/main/heartDiseaseprediction.ipynb\" target=\"_parent\"><img src=\"https://colab.research.google.com/assets/colab-badge.svg\" alt=\"Open In Colab\"/></a>"
      ]
    },
    {
      "cell_type": "code",
      "execution_count": 7,
      "metadata": {
        "id": "FpyY4s3gi1CH",
        "colab": {
          "base_uri": "https://localhost:8080/"
        },
        "outputId": "dde0fce0-6fab-4fe3-e374-64a869d95aaa"
      },
      "outputs": [
        {
          "output_type": "stream",
          "name": "stdout",
          "text": [
            "Loaded cleveland dataset successfully!\n",
            "Loaded hungarian dataset successfully!\n",
            "Loaded switzerland dataset successfully!\n",
            "Loaded va dataset successfully!\n",
            "Accuracy: 0.991162474507138\n",
            "\n",
            "Classification Report:\n",
            "               precision    recall  f1-score   support\n",
            "\n",
            "           0       0.25      0.09      0.13        11\n",
            "           1       0.99      1.00      1.00      1460\n",
            "\n",
            "    accuracy                           0.99      1471\n",
            "   macro avg       0.62      0.54      0.56      1471\n",
            "weighted avg       0.99      0.99      0.99      1471\n",
            "\n"
          ]
        }
      ],
      "source": [
        "import pandas as pd\n",
        "from sklearn.impute import SimpleImputer\n",
        "from sklearn.model_selection import train_test_split\n",
        "from sklearn.preprocessing import StandardScaler\n",
        "from sklearn.ensemble import RandomForestClassifier\n",
        "from sklearn.metrics import accuracy_score, classification_report\n",
        "\n",
        "\n",
        "file_paths = {\n",
        "    \"cleveland\": '/cleveland.csv',\n",
        "    \"hungarian\": '/hungarian.csv',\n",
        "    \"switzerland\": '/switzerland.csv',\n",
        "    \"va\": '/va.csv'\n",
        "}\n",
        "\n",
        "\n",
        "datasets = []\n",
        "for name, path in file_paths.items():\n",
        "    try:\n",
        "        df = pd.read_csv(path, header=None)\n",
        "        datasets.append(df)\n",
        "        print(f\"Loaded {name} dataset successfully!\")\n",
        "    except Exception as e:\n",
        "        print(f\"Error loading {name}: {e}\")\n",
        "\n",
        "\n",
        "data = pd.concat(datasets, ignore_index=True)\n",
        "\n",
        "\n",
        "columns = [\n",
        "    \"age\", \"sex\", \"cp\", \"trestbps\", \"chol\", \"fbs\", \"restecg\", \"thalach\",\n",
        "    \"exang\", \"oldpeak\", \"slope\", \"ca\", \"thal\", \"target\"\n",
        "]\n",
        "data.columns = columns\n",
        "\n",
        "\n",
        "data.replace(['', ' '], pd.NA, inplace=True)\n",
        "\n",
        "\n",
        "data = data.apply(pd.to_numeric, errors='coerce')\n",
        "\n",
        "\n",
        "imputer = SimpleImputer(strategy='mean')\n",
        "data = pd.DataFrame(imputer.fit_transform(data), columns=columns)\n",
        "\n",
        "X = data.drop(\"target\", axis=1)\n",
        "y = (data[\"target\"] > 0).astype(int)\n",
        "\n",
        "\n",
        "X_train, X_test, y_train, y_test = train_test_split(X, y, test_size=0.2, random_state=42)\n",
        "\n",
        "\n",
        "scaler = StandardScaler()\n",
        "X_train = scaler.fit_transform(X_train)\n",
        "X_test = scaler.transform(X_test)\n",
        "\n",
        "\n",
        "model = RandomForestClassifier(random_state=42)\n",
        "model.fit(X_train, y_train)\n",
        "\n",
        "\n",
        "y_pred = model.predict(X_test)\n",
        "\n",
        "\n",
        "print(\"Accuracy:\", accuracy_score(y_test, y_pred))\n",
        "print(\"\\nClassification Report:\\n\", classification_report(y_test, y_pred))\n"
      ]
    },
    {
      "cell_type": "code",
      "source": [
        "from sklearn.ensemble import RandomForestClassifier\n",
        "from sklearn.linear_model import LogisticRegression\n",
        "from sklearn.metrics import accuracy_score, classification_report\n",
        "\n",
        "\n",
        "model = RandomForestClassifier(random_state=42)\n",
        "model.fit(X_train, y_train)\n",
        "\n",
        "\n",
        "y_pred = model.predict(X_test)\n",
        "\n",
        "\n",
        "print(\"Accuracy:\", accuracy_score(y_test, y_pred))\n",
        "print(\"\\nClassification Report:\\n\", classification_report(y_test, y_pred))\n"
      ],
      "metadata": {
        "colab": {
          "base_uri": "https://localhost:8080/"
        },
        "id": "tpKbRudEnd9M",
        "outputId": "4453c4de-ae32-41eb-96db-1d26b7dd2159"
      },
      "execution_count": 8,
      "outputs": [
        {
          "output_type": "stream",
          "name": "stdout",
          "text": [
            "Accuracy: 0.991162474507138\n",
            "\n",
            "Classification Report:\n",
            "               precision    recall  f1-score   support\n",
            "\n",
            "           0       0.25      0.09      0.13        11\n",
            "           1       0.99      1.00      1.00      1460\n",
            "\n",
            "    accuracy                           0.99      1471\n",
            "   macro avg       0.62      0.54      0.56      1471\n",
            "weighted avg       0.99      0.99      0.99      1471\n",
            "\n"
          ]
        }
      ]
    },
    {
      "cell_type": "code",
      "source": [
        "from sklearn.model_selection import GridSearchCV\n",
        "\n",
        "\n",
        "param_grid = {\n",
        "    'n_estimators': [50, 100, 150],\n",
        "    'max_depth': [None, 10, 20, 30],\n",
        "    'min_samples_split': [2, 5, 10],\n",
        "    'min_samples_leaf': [1, 2, 4]\n",
        "}\n",
        "\n",
        "\n",
        "grid_search = GridSearchCV(estimator=RandomForestClassifier(random_state=42), param_grid=param_grid, cv=5, scoring='accuracy')\n",
        "grid_search.fit(X_train, y_train)\n",
        "\n",
        "\n",
        "print(\"Best Parameters:\", grid_search.best_params_)\n",
        "best_model = grid_search.best_estimator_\n",
        "\n",
        "\n",
        "y_pred_optimized = best_model.predict(X_test)\n",
        "print(\"Optimized Model Accuracy:\", accuracy_score(y_test, y_pred_optimized))\n"
      ],
      "metadata": {
        "colab": {
          "base_uri": "https://localhost:8080/"
        },
        "id": "9yd_nxsoniOF",
        "outputId": "9f6e4099-d66d-43b9-ed89-9bc3a0c667e0"
      },
      "execution_count": 9,
      "outputs": [
        {
          "output_type": "stream",
          "name": "stdout",
          "text": [
            "Best Parameters: {'max_depth': 10, 'min_samples_leaf': 1, 'min_samples_split': 5, 'n_estimators': 150}\n",
            "Optimized Model Accuracy: 0.9918422841604351\n"
          ]
        }
      ]
    },
    {
      "cell_type": "code",
      "source": [
        "import joblib\n",
        "\n",
        "\n",
        "joblib.dump(best_model, \"heart_disease_model.pkl\")\n",
        "\n",
        "\n",
        "loaded_model = joblib.load(\"heart_disease_model.pkl\")\n"
      ],
      "metadata": {
        "id": "o046NmEioqK6"
      },
      "execution_count": 11,
      "outputs": []
    },
    {
      "cell_type": "code",
      "source": [
        "import matplotlib.pyplot as plt\n",
        "\n",
        "\n",
        "importance = best_model.feature_importances_\n",
        "plt.bar(columns[:-1], importance)\n",
        "plt.title(\"Feature Importance\")\n",
        "plt.xticks(rotation=45)\n",
        "plt.show()\n"
      ],
      "metadata": {
        "colab": {
          "base_uri": "https://localhost:8080/",
          "height": 488
        },
        "id": "BzUWKV6LotwX",
        "outputId": "f0e9789b-a5ac-4339-a7ea-f5f70704c142"
      },
      "execution_count": 12,
      "outputs": [
        {
          "output_type": "display_data",
          "data": {
            "text/plain": [
              "<Figure size 640x480 with 1 Axes>"
            ],
            "image/png": "[encoded data removed]"
          },
          "metadata": {}
        }
      ]
    },
    {
      "cell_type": "code",
      "source": [
        "# Step 1: Disease Mapping\n",
        "disease_mapping = {\n",
        "    0: {\n",
        "        \"name\": \"No Disease\",\n",
        "        \"cause\": \"Healthy condition with no significant heart-related issues.\",\n",
        "        \"treatment\": \"Maintain a healthy lifestyle, regular exercise, and balanced diet.\"\n",
        "    },\n",
        "    1: {\n",
        "        \"name\": \"Coronary Artery Disease\",\n",
        "        \"cause\": \"Narrowing or blockage of the coronary arteries, often caused by atherosclerosis.\",\n",
        "        \"treatment\": \"Lifestyle changes, medications, or procedures like angioplasty or bypass surgery.\"\n",
        "    },\n",
        "    2: {\n",
        "        \"name\": \"Myocardial Infarction\",\n",
        "        \"cause\": \"Heart attack caused by blood flow blockage to the heart muscle.\",\n",
        "        \"treatment\": \"Immediate medical attention, medications, or surgery.\"\n",
        "    },\n",
        "    3: {\n",
        "        \"name\": \"Angina\",\n",
        "        \"cause\": \"Chest pain due to reduced blood flow to the heart.\",\n",
        "        \"treatment\": \"Medications to improve blood flow and reduce pain.\"\n",
        "    },\n",
        "    4: {\n",
        "        \"name\": \"Heart Failure\",\n",
        "        \"cause\": \"Heart muscle weakness leading to inadequate blood pumping.\",\n",
        "        \"treatment\": \"Medications, lifestyle changes, and in severe cases, heart transplantation.\"\n",
        "    }\n",
        "}\n",
        "\n",
        "\n",
        "def predict_disease(details):\n",
        "    \"\"\"\n",
        "    Predict the disease type based on user-provided details and provide relevant information.\n",
        "    Args:\n",
        "    details (dict): A dictionary containing user inputs for features.\n",
        "\n",
        "    Returns:\n",
        "    dict: Prediction result, disease name, causes, and treatments.\n",
        "    \"\"\"\n",
        "\n",
        "    input_data = pd.DataFrame([details])\n",
        "\n",
        "\n",
        "    input_scaled = scaler.transform(input_data)\n",
        "\n",
        "\n",
        "    prediction = model.predict(input_scaled)[0]\n",
        "\n",
        "\n",
        "    disease_info = disease_mapping.get(prediction, {\n",
        "        \"name\": \"Unknown\",\n",
        "        \"cause\": \"Unknown\",\n",
        "        \"treatment\": \"Unknown\"\n",
        "    })\n",
        "\n",
        "    return {\n",
        "        \"Prediction\": prediction,\n",
        "        \"Disease Name\": disease_info[\"name\"],\n",
        "        \"Cause\": disease_info[\"cause\"],\n",
        "        \"Treatment\": disease_info[\"treatment\"]\n",
        "    }\n",
        "\n",
        "\n",
        "user_input = {\n",
        "    \"age\": 45,\n",
        "    \"sex\": 1,\n",
        "    \"cp\": 3,\n",
        "    \"trestbps\": 500,\n",
        "    \"chol\": 987,\n",
        "    \"fbs\": 0,\n",
        "    \"restecg\": 0,\n",
        "    \"thalach\": 150,\n",
        "    \"exang\": 0,\n",
        "    \"oldpeak\": 1.2,\n",
        "    \"slope\": 2,\n",
        "    \"ca\": 0,\n",
        "    \"thal\": 2\n",
        "}\n",
        "\n",
        "\n",
        "result = predict_disease(user_input)\n",
        "print(\"Prediction Result:\")\n",
        "print(f\"Disease Name: {result['Disease Name']}\")\n",
        "print(f\"Cause: {result['Cause']}\")\n",
        "print(f\"Treatment: {result['Treatment']}\")\n"
      ],
      "metadata": {
        "colab": {
          "base_uri": "https://localhost:8080/"
        },
        "id": "V58_BDyLpSGY",
        "outputId": "c51aeff4-2f97-4513-ed80-8c43877ec69b"
      },
      "execution_count": 15,
      "outputs": [
        {
          "output_type": "stream",
          "name": "stdout",
          "text": [
            "Prediction Result:\n",
            "Disease Name: No Disease\n",
            "Cause: Healthy condition with no significant heart-related issues.\n",
            "Treatment: Maintain a healthy lifestyle, regular exercise, and balanced diet.\n"
          ]
        }
      ]
    },
    {
      "cell_type": "code",
      "source": [
        "\n",
        "print(\"Classification Report on Test Data:\\n\")\n",
        "print(classification_report(y_test, model.predict(X_test)))\n"
      ],
      "metadata": {
        "colab": {
          "base_uri": "https://localhost:8080/"
        },
        "id": "mxATsTPbqDTx",
        "outputId": "a4c2e92e-c2f2-4192-b079-53294a544a58"
      },
      "execution_count": 16,
      "outputs": [
        {
          "output_type": "stream",
          "name": "stdout",
          "text": [
            "Classification Report on Test Data:\n",
            "\n",
            "              precision    recall  f1-score   support\n",
            "\n",
            "           0       0.25      0.09      0.13        11\n",
            "           1       0.99      1.00      1.00      1460\n",
            "\n",
            "    accuracy                           0.99      1471\n",
            "   macro avg       0.62      0.54      0.56      1471\n",
            "weighted avg       0.99      0.99      0.99      1471\n",
            "\n"
          ]
        }
      ]
    },
    {
      "cell_type": "code",
      "source": [
        "def predict_disease(details):\n",
        "    \"\"\"\n",
        "    Predict the disease type based on user-provided details and provide relevant information.\n",
        "    Args:\n",
        "    details (dict): A dictionary containing user inputs for features.\n",
        "\n",
        "    Returns:\n",
        "    dict: Prediction result, disease name, causes, and treatments.\n",
        "    \"\"\"\n",
        "\n",
        "    input_data = pd.DataFrame([details])\n",
        "\n",
        "\n",
        "    missing_cols = set(X.columns) - set(input_data.columns)\n",
        "    if missing_cols:\n",
        "        raise ValueError(f\"Missing columns in input data: {missing_cols}\")\n",
        "\n",
        "\n",
        "    input_scaled = scaler.transform(input_data)\n",
        "\n",
        "\n",
        "    print(\"Scaled User Input:\")\n",
        "    print(input_scaled)\n",
        "\n",
        "\n",
        "    prediction = model.predict(input_scaled)[0]\n",
        "\n",
        "\n",
        "    disease_info = disease_mapping.get(prediction, {\n",
        "        \"name\": \"Unknown\",\n",
        "        \"cause\": \"Unknown\",\n",
        "        \"treatment\": \"Unknown\"\n",
        "    })\n",
        "\n",
        "    return {\n",
        "        \"Prediction\": prediction,\n",
        "        \"Disease Name\": disease_info[\"name\"],\n",
        "        \"Cause\": disease_info[\"cause\"],\n",
        "        \"Treatment\": disease_info[\"treatment\"]\n",
        "    }\n"
      ],
      "metadata": {
        "id": "Ljfx45JmqXXV"
      },
      "execution_count": 18,
      "outputs": []
    },
    {
      "cell_type": "code",
      "source": [
        "user_input = {\n",
        "    \"age\": 45,\n",
        "    \"sex\": 1,\n",
        "    \"cp\": 3,\n",
        "    \"trestbps\": 130,\n",
        "    \"chol\": 245,\n",
        "    \"fbs\": 0,\n",
        "    \"restecg\": 0,\n",
        "    \"thalach\": 150,\n",
        "    \"exang\": 0,\n",
        "    \"oldpeak\": 1.2,\n",
        "    \"slope\": 2,\n",
        "    \"ca\": 0,\n",
        "    \"thal\": 2\n",
        "}\n",
        "\n",
        "result = predict_disease(user_input)\n",
        "print(\"Prediction Result:\")\n",
        "print(f\"Disease Name: {result['Disease Name']}\")\n",
        "print(f\"Cause: {result['Cause']}\")\n",
        "print(f\"Treatment: {result['Treatment']}\")\n"
      ],
      "metadata": {
        "colab": {
          "base_uri": "https://localhost:8080/"
        },
        "id": "2ycwovOdqYMd",
        "outputId": "9a5bbca2-8925-433f-a43b-d725f6382e31"
      },
      "execution_count": 19,
      "outputs": [
        {
          "output_type": "stream",
          "name": "stdout",
          "text": [
            "Scaled User Input:\n",
            "[[ -5.06290184   1.04512016  -3.76876325  -1.21006313   3.51357679\n",
            "   -4.43870341  -6.38992448   8.32735605  -9.48612295  -0.79280833\n",
            "   -1.69323819   0.         -50.54555365]]\n",
            "Prediction Result:\n",
            "Disease Name: No Disease\n",
            "Cause: Healthy condition with no significant heart-related issues.\n",
            "Treatment: Maintain a healthy lifestyle, regular exercise, and balanced diet.\n"
          ]
        }
      ]
    }
  ]
}